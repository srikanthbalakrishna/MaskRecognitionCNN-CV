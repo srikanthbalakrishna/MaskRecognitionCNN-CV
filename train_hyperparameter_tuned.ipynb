{
 "cells": [
  {
   "cell_type": "code",
   "execution_count": 37,
   "id": "instrumental-liability",
   "metadata": {},
   "outputs": [],
   "source": [
    "# !git clone https://github.com/keras-team/keras-tuner\n"
   ]
  },
  {
   "cell_type": "code",
   "execution_count": 4,
   "id": "accurate-budget",
   "metadata": {
    "scrolled": false
   },
   "outputs": [
    {
     "name": "stdout",
     "output_type": "stream",
     "text": [
      "C:\\Users\\srika\\Desktop\\ML\\PROJECT\\Mask Recognition\\keras-tuner\n"
     ]
    }
   ],
   "source": [
    "cd keras-tuner"
   ]
  },
  {
   "cell_type": "code",
   "execution_count": 5,
   "id": "revised-advice",
   "metadata": {},
   "outputs": [
    {
     "name": "stdout",
     "output_type": "stream",
     "text": [
      "Processing c:\\users\\srika\\desktop\\ml\\project\\mask recognition\\keras-tuner\n",
      "Requirement already satisfied: packaging in c:\\python39\\lib\\site-packages (from keras-tuner==1.0.3) (20.9)\n",
      "Requirement already satisfied: numpy in c:\\python39\\lib\\site-packages (from keras-tuner==1.0.3) (1.20.2)\n",
      "Requirement already satisfied: requests in c:\\python39\\lib\\site-packages (from keras-tuner==1.0.3) (2.25.1)\n",
      "Requirement already satisfied: scipy in c:\\python39\\lib\\site-packages (from keras-tuner==1.0.3) (1.6.2)\n",
      "Requirement already satisfied: tensorboard in c:\\python39\\lib\\site-packages (from keras-tuner==1.0.3) (2.4.1)\n",
      "Requirement already satisfied: ipython in c:\\python39\\lib\\site-packages (from keras-tuner==1.0.3) (7.22.0)\n",
      "Requirement already satisfied: pygments in c:\\python39\\lib\\site-packages (from ipython->keras-tuner==1.0.3) (2.8.1)\n",
      "Requirement already satisfied: prompt-toolkit!=3.0.0,!=3.0.1,<3.1.0,>=2.0.0 in c:\\python39\\lib\\site-packages (from ipython->keras-tuner==1.0.3) (3.0.18)\n",
      "Requirement already satisfied: pickleshare in c:\\python39\\lib\\site-packages (from ipython->keras-tuner==1.0.3) (0.7.5)\n",
      "Requirement already satisfied: colorama in c:\\python39\\lib\\site-packages (from ipython->keras-tuner==1.0.3) (0.4.4)\n",
      "Requirement already satisfied: setuptools>=18.5 in c:\\python39\\lib\\site-packages (from ipython->keras-tuner==1.0.3) (49.2.1)\n",
      "Requirement already satisfied: decorator in c:\\python39\\lib\\site-packages (from ipython->keras-tuner==1.0.3) (4.4.2)\n",
      "Requirement already satisfied: jedi>=0.16 in c:\\python39\\lib\\site-packages (from ipython->keras-tuner==1.0.3) (0.18.0)\n",
      "Requirement already satisfied: traitlets>=4.2 in c:\\python39\\lib\\site-packages (from ipython->keras-tuner==1.0.3) (5.0.5)\n",
      "Requirement already satisfied: backcall in c:\\python39\\lib\\site-packages (from ipython->keras-tuner==1.0.3) (0.2.0)\n",
      "Requirement already satisfied: parso<0.9.0,>=0.8.0 in c:\\python39\\lib\\site-packages (from jedi>=0.16->ipython->keras-tuner==1.0.3) (0.8.1)\n",
      "Requirement already satisfied: wcwidth in c:\\python39\\lib\\site-packages (from prompt-toolkit!=3.0.0,!=3.0.1,<3.1.0,>=2.0.0->ipython->keras-tuner==1.0.3) (0.2.5)\n",
      "Requirement already satisfied: ipython-genutils in c:\\python39\\lib\\site-packages (from traitlets>=4.2->ipython->keras-tuner==1.0.3) (0.2.0)\n",
      "Requirement already satisfied: pyparsing>=2.0.2 in c:\\python39\\lib\\site-packages (from packaging->keras-tuner==1.0.3) (2.4.7)\n",
      "Requirement already satisfied: idna<3,>=2.5 in c:\\python39\\lib\\site-packages (from requests->keras-tuner==1.0.3) (2.10)\n",
      "Requirement already satisfied: chardet<5,>=3.0.2 in c:\\python39\\lib\\site-packages (from requests->keras-tuner==1.0.3) (4.0.0)\n",
      "Requirement already satisfied: certifi>=2017.4.17 in c:\\python39\\lib\\site-packages (from requests->keras-tuner==1.0.3) (2020.12.5)\n",
      "Requirement already satisfied: urllib3<1.27,>=1.21.1 in c:\\python39\\lib\\site-packages (from requests->keras-tuner==1.0.3) (1.26.4)\n",
      "Requirement already satisfied: tensorboard-plugin-wit>=1.6.0 in c:\\python39\\lib\\site-packages (from tensorboard->keras-tuner==1.0.3) (1.8.0)\n",
      "Requirement already satisfied: wheel>=0.26 in c:\\python39\\lib\\site-packages (from tensorboard->keras-tuner==1.0.3) (0.36.2)\n",
      "Requirement already satisfied: protobuf>=3.6.0 in c:\\python39\\lib\\site-packages (from tensorboard->keras-tuner==1.0.3) (3.15.6)\n",
      "Requirement already satisfied: markdown>=2.6.8 in c:\\python39\\lib\\site-packages (from tensorboard->keras-tuner==1.0.3) (3.3.4)\n",
      "Requirement already satisfied: six>=1.10.0 in c:\\python39\\lib\\site-packages (from tensorboard->keras-tuner==1.0.3) (1.15.0)\n",
      "Requirement already satisfied: google-auth-oauthlib<0.5,>=0.4.1 in c:\\python39\\lib\\site-packages (from tensorboard->keras-tuner==1.0.3) (0.4.3)\n",
      "Requirement already satisfied: werkzeug>=0.11.15 in c:\\python39\\lib\\site-packages (from tensorboard->keras-tuner==1.0.3) (1.0.1)\n",
      "Requirement already satisfied: absl-py>=0.4 in c:\\python39\\lib\\site-packages (from tensorboard->keras-tuner==1.0.3) (0.12.0)\n",
      "Requirement already satisfied: grpcio>=1.24.3 in c:\\python39\\lib\\site-packages (from tensorboard->keras-tuner==1.0.3) (1.36.1)\n",
      "Requirement already satisfied: google-auth<2,>=1.6.3 in c:\\python39\\lib\\site-packages (from tensorboard->keras-tuner==1.0.3) (1.28.0)\n",
      "Requirement already satisfied: pyasn1-modules>=0.2.1 in c:\\python39\\lib\\site-packages (from google-auth<2,>=1.6.3->tensorboard->keras-tuner==1.0.3) (0.2.8)\n",
      "Requirement already satisfied: cachetools<5.0,>=2.0.0 in c:\\python39\\lib\\site-packages (from google-auth<2,>=1.6.3->tensorboard->keras-tuner==1.0.3) (4.2.1)\n",
      "Requirement already satisfied: rsa<5,>=3.1.4 in c:\\python39\\lib\\site-packages (from google-auth<2,>=1.6.3->tensorboard->keras-tuner==1.0.3) (4.7.2)\n",
      "Requirement already satisfied: requests-oauthlib>=0.7.0 in c:\\python39\\lib\\site-packages (from google-auth-oauthlib<0.5,>=0.4.1->tensorboard->keras-tuner==1.0.3) (1.3.0)\n",
      "Requirement already satisfied: pyasn1<0.5.0,>=0.4.6 in c:\\python39\\lib\\site-packages (from pyasn1-modules>=0.2.1->google-auth<2,>=1.6.3->tensorboard->keras-tuner==1.0.3) (0.4.8)\n",
      "Requirement already satisfied: oauthlib>=3.0.0 in c:\\python39\\lib\\site-packages (from requests-oauthlib>=0.7.0->google-auth-oauthlib<0.5,>=0.4.1->tensorboard->keras-tuner==1.0.3) (3.1.0)\n",
      "Building wheels for collected packages: keras-tuner\n",
      "  Building wheel for keras-tuner (setup.py): started\n",
      "  Building wheel for keras-tuner (setup.py): finished with status 'done'\n",
      "  Created wheel for keras-tuner: filename=keras_tuner-1.0.3-py3-none-any.whl size=94520 sha256=1a12b5936d4ee872299152791c1e4339db0940dfb1b57b9a4057081785fe9051\n",
      "  Stored in directory: c:\\users\\srika\\appdata\\local\\pip\\cache\\wheels\\24\\39\\2d\\24b5a62ec12d615affac337986791b34b0845eccfda8eeea1d\n",
      "Successfully built keras-tuner\n",
      "Installing collected packages: keras-tuner\n",
      "  Attempting uninstall: keras-tuner\n",
      "    Found existing installation: keras-tuner 1.0.3\n",
      "    Uninstalling keras-tuner-1.0.3:\n",
      "      Successfully uninstalled keras-tuner-1.0.3\n",
      "Successfully installed keras-tuner-1.0.3\n"
     ]
    }
   ],
   "source": [
    "!pip install ."
   ]
  },
  {
   "cell_type": "code",
   "execution_count": null,
   "id": "maritime-setup",
   "metadata": {},
   "outputs": [],
   "source": []
  },
  {
   "cell_type": "code",
   "execution_count": 6,
   "id": "cross-landscape",
   "metadata": {},
   "outputs": [],
   "source": [
    "import tensorflow as tf\n",
    "from tensorflow import keras\n",
    "import numpy as np\n",
    "from tensorflow.keras.preprocessing.image import ImageDataGenerator\n",
    "from tensorflow.keras.layers import Conv2D, Input, ZeroPadding2D, BatchNormalization, Activation, MaxPooling2D, Flatten, Dense,Dropout"
   ]
  },
  {
   "cell_type": "code",
   "execution_count": 7,
   "id": "medieval-porcelain",
   "metadata": {},
   "outputs": [],
   "source": [
    "from kerastuner import HyperModel\n",
    "\n",
    "\n",
    "class CNNHyperModel(HyperModel):\n",
    "    def __init__(self, input_shape, num_classes):\n",
    "        self.input_shape = input_shape\n",
    "        self.num_classes = num_classes\n",
    "\n",
    "    def build(self, hp):\n",
    "        model = keras.Sequential()\n",
    "        model.add(\n",
    "                Conv2D(\n",
    "        filters=hp.Int('conv_1_filter', min_value=8, max_value=32, step=4), \n",
    "        kernel_size=hp.Choice('conv_1_kernel', values = [3,5]),\n",
    "        activation='relu',\n",
    "        input_shape=(150,150,1)\n",
    "                     )\n",
    "                 )\n",
    "        model.add(MaxPooling2D(pool_size=2))\n",
    "        model.add(\n",
    "                Conv2D(\n",
    "        filters=hp.Int('conv_2_filter', min_value=4, max_value=16, step=2),\n",
    "        kernel_size=hp.Choice('conv_2_kernel', values = [3,5]),\n",
    "        activation='relu'\n",
    "                      )\n",
    "                 )\n",
    "        model.add(MaxPooling2D(pool_size=2))\n",
    "        model.add(Flatten())\n",
    "        model.add(\n",
    "                Dropout(\n",
    "                rate=hp.Float(\n",
    "                    'dropout_3',\n",
    "                    min_value=0.0,\n",
    "                    max_value=0.5,\n",
    "                    default=0.25,\n",
    "                    step=0.05\n",
    "                            )\n",
    "                      )\n",
    "                )\n",
    "        \"\"\"\n",
    "        model.add(\n",
    "                  Dense(\n",
    "        units=hp.Int('dense_1_units', min_value=32, max_value=128, step=16),\n",
    "        activation='relu'\n",
    "                       )\n",
    "                 )\n",
    "        \"\"\"\n",
    "        model.add(Dense(2,activation='softmax'))\n",
    "\n",
    "        model.compile(\n",
    "            optimizer=keras.optimizers.Adam(\n",
    "                hp.Float(\n",
    "                    'learning_rate',\n",
    "                    min_value=1e-4,\n",
    "                    max_value=1e-2,\n",
    "                    sampling='LOG',\n",
    "                    default=1e-3\n",
    "                )\n",
    "            ),\n",
    "            loss='binary_crossentropy',\n",
    "            metrics=['accuracy']\n",
    "        )\n",
    "        return model\n",
    "\n",
    "\n"
   ]
  },
  {
   "cell_type": "code",
   "execution_count": 8,
   "id": "unlimited-match",
   "metadata": {},
   "outputs": [
    {
     "name": "stdout",
     "output_type": "stream",
     "text": [
      "INFO:tensorflow:Reloading Oracle from existing project random_search_output\\mask_recog_hyper_optimized\\oracle.json\n",
      "INFO:tensorflow:Reloading Tuner from random_search_output\\mask_recog_hyper_optimized\\tuner0.json\n"
     ]
    }
   ],
   "source": [
    "from kerastuner.tuners import RandomSearch\n",
    "\n",
    "NUM_CLASSES = 2\n",
    "INPUT_SHAPE = (150,150,1)\n",
    "MAX_TRIALS=5\n",
    "N_EPOCH_SEARCH = 3\n",
    "\n",
    "hypermodel = CNNHyperModel(input_shape=INPUT_SHAPE, num_classes=NUM_CLASSES)\n",
    "\n",
    "tuner = RandomSearch(\n",
    "    hypermodel,\n",
    "    objective='val_accuracy',\n",
    "    max_trials=MAX_TRIALS,\n",
    "    directory='random_search_output',\n",
    "    project_name='mask_recog_hyper_optimized'\n",
    ")"
   ]
  },
  {
   "cell_type": "code",
   "execution_count": 9,
   "id": "everyday-amsterdam",
   "metadata": {},
   "outputs": [
    {
     "name": "stderr",
     "output_type": "stream",
     "text": [
      "c:\\users\\srika\\appdata\\local\\programs\\python\\python38\\lib\\site-packages\\PIL\\Image.py:962: UserWarning: Palette images with Transparency expressed in bytes should be converted to RGBA images\n",
      "  warnings.warn(\n"
     ]
    }
   ],
   "source": [
    "from imutils import paths\n",
    "import os\n",
    "from tensorflow.keras.preprocessing.image import img_to_array\n",
    "from tensorflow.keras.preprocessing.image import load_img\n",
    "imagePaths = list(paths.list_images(r'C:\\Users\\srika\\Desktop\\ML\\PROJECT\\Mask Recognition\\dataset'))\n",
    "data = []\n",
    "labels = []\n",
    "# loop over the image paths\n",
    "for imagePath in imagePaths:\n",
    "    # extract the class label from the filename\n",
    "    label = imagePath.split(os.path.sep)[-2]\n",
    "\n",
    "    # load the input image (150x150) and preprocess it (arbitrary in our case)\n",
    "    image = load_img(imagePath, color_mode='grayscale',target_size=(150,150))\n",
    "\n",
    "    image = img_to_array(image) #1,150,150\n",
    "\n",
    "    # update the data and labels lists, respectively\n",
    "    data.append(image)\n",
    "    labels.append(label)\n",
    "    \n",
    "# convert the data and labels to NumPy arrays\n",
    "data = np.array(data, dtype=\"float32\")\n",
    "labels = np.array(labels)"
   ]
  },
  {
   "cell_type": "code",
   "execution_count": 30,
   "id": "later-cemetery",
   "metadata": {},
   "outputs": [],
   "source": [
    "from sklearn.preprocessing import LabelBinarizer\n",
    "from tensorflow.keras.utils import to_categorical\n",
    "from sklearn.model_selection import train_test_split\n",
    "lb = LabelBinarizer()\n",
    "labels = lb.fit_transform(labels)\n",
    "labels = to_categorical(labels)\n",
    "# partition the data into training and testing splits using 80% of\n",
    "# the data for training and the remaining 20% for testing\n",
    "(trainX, testX, trainY, testY) = train_test_split(data, labels,test_size=0.20, stratify=labels, random_state=42)"
   ]
  },
  {
   "cell_type": "code",
   "execution_count": 31,
   "id": "studied-determination",
   "metadata": {
    "scrolled": true
   },
   "outputs": [
    {
     "name": "stdout",
     "output_type": "stream",
     "text": [
      "Trial 5 Complete [00h 01m 03s]\n",
      "val_accuracy: 0.5570032596588135\n",
      "\n",
      "Best val_accuracy So Far: 0.9348534345626831\n",
      "Total elapsed time: 00h 05m 33s\n",
      "INFO:tensorflow:Oracle triggered exit\n"
     ]
    }
   ],
   "source": [
    "tuner.search(trainX,trainY,batch_size=4 ,epochs=N_EPOCH_SEARCH, validation_split=0.1)"
   ]
  },
  {
   "cell_type": "code",
   "execution_count": 32,
   "id": "synthetic-mistake",
   "metadata": {},
   "outputs": [],
   "source": [
    "model=tuner.get_best_models(num_models=1)[0]"
   ]
  },
  {
   "cell_type": "code",
   "execution_count": 33,
   "id": "taken-mambo",
   "metadata": {
    "scrolled": false
   },
   "outputs": [
    {
     "name": "stdout",
     "output_type": "stream",
     "text": [
      "Model: \"sequential\"\n",
      "_________________________________________________________________\n",
      "Layer (type)                 Output Shape              Param #   \n",
      "=================================================================\n",
      "conv2d (Conv2D)              (None, 148, 148, 24)      240       \n",
      "_________________________________________________________________\n",
      "max_pooling2d (MaxPooling2D) (None, 74, 74, 24)        0         \n",
      "_________________________________________________________________\n",
      "conv2d_1 (Conv2D)            (None, 72, 72, 14)        3038      \n",
      "_________________________________________________________________\n",
      "max_pooling2d_1 (MaxPooling2 (None, 36, 36, 14)        0         \n",
      "_________________________________________________________________\n",
      "flatten (Flatten)            (None, 18144)             0         \n",
      "_________________________________________________________________\n",
      "dropout (Dropout)            (None, 18144)             0         \n",
      "_________________________________________________________________\n",
      "dense (Dense)                (None, 2)                 36290     \n",
      "=================================================================\n",
      "Total params: 39,568\n",
      "Trainable params: 39,568\n",
      "Non-trainable params: 0\n",
      "_________________________________________________________________\n"
     ]
    }
   ],
   "source": [
    "model.summary()"
   ]
  },
  {
   "cell_type": "code",
   "execution_count": 34,
   "id": "moral-midwest",
   "metadata": {},
   "outputs": [
    {
     "name": "stdout",
     "output_type": "stream",
     "text": [
      "Epoch 1/20\n",
      "95/95 [==============================] - 26s 243ms/step - loss: 0.5556 - accuracy: 0.7703 - val_loss: 0.2285 - val_accuracy: 0.9113\n",
      "Epoch 2/20\n",
      "95/95 [==============================] - 14s 145ms/step - loss: 0.4425 - accuracy: 0.7954 - val_loss: 0.2240 - val_accuracy: 0.9100\n",
      "Epoch 3/20\n",
      "95/95 [==============================] - 20s 214ms/step - loss: 0.4272 - accuracy: 0.8041 - val_loss: 0.2189 - val_accuracy: 0.9179\n",
      "Epoch 4/20\n",
      "95/95 [==============================] - 15s 159ms/step - loss: 0.3898 - accuracy: 0.8223 - val_loss: 0.2166 - val_accuracy: 0.9166\n",
      "Epoch 5/20\n",
      "95/95 [==============================] - 23s 240ms/step - loss: 0.3634 - accuracy: 0.8341 - val_loss: 0.2026 - val_accuracy: 0.9192\n",
      "Epoch 6/20\n",
      "95/95 [==============================] - 24s 249ms/step - loss: 0.3532 - accuracy: 0.8396 - val_loss: 0.1881 - val_accuracy: 0.9231\n",
      "Epoch 7/20\n",
      "95/95 [==============================] - 20s 212ms/step - loss: 0.3269 - accuracy: 0.8678 - val_loss: 0.1816 - val_accuracy: 0.9283\n",
      "Epoch 8/20\n",
      "95/95 [==============================] - 16s 171ms/step - loss: 0.3150 - accuracy: 0.8692 - val_loss: 0.1670 - val_accuracy: 0.9361\n",
      "Epoch 9/20\n",
      "95/95 [==============================] - 17s 180ms/step - loss: 0.3031 - accuracy: 0.8795 - val_loss: 0.1835 - val_accuracy: 0.9348\n",
      "Epoch 10/20\n",
      "95/95 [==============================] - 14s 148ms/step - loss: 0.3191 - accuracy: 0.8725 - val_loss: 0.1586 - val_accuracy: 0.9439\n",
      "Epoch 11/20\n",
      "95/95 [==============================] - 13s 141ms/step - loss: 0.2695 - accuracy: 0.8933 - val_loss: 0.1873 - val_accuracy: 0.9322\n",
      "Epoch 12/20\n",
      "95/95 [==============================] - 18s 191ms/step - loss: 0.2734 - accuracy: 0.9053 - val_loss: 0.1991 - val_accuracy: 0.9322\n",
      "Epoch 13/20\n",
      "95/95 [==============================] - 18s 189ms/step - loss: 0.2760 - accuracy: 0.8913 - val_loss: 0.1730 - val_accuracy: 0.9439\n",
      "Epoch 14/20\n",
      "95/95 [==============================] - 18s 186ms/step - loss: 0.2632 - accuracy: 0.8949 - val_loss: 0.1911 - val_accuracy: 0.9374\n",
      "Epoch 15/20\n",
      "95/95 [==============================] - 13s 135ms/step - loss: 0.2452 - accuracy: 0.9007 - val_loss: 0.1377 - val_accuracy: 0.9531\n",
      "Epoch 16/20\n",
      "95/95 [==============================] - 19s 205ms/step - loss: 0.2500 - accuracy: 0.9001 - val_loss: 0.1498 - val_accuracy: 0.9439\n",
      "Epoch 17/20\n",
      "95/95 [==============================] - 24s 251ms/step - loss: 0.2553 - accuracy: 0.9095 - val_loss: 0.1859 - val_accuracy: 0.9374\n",
      "Epoch 18/20\n",
      "95/95 [==============================] - 23s 239ms/step - loss: 0.2779 - accuracy: 0.8950 - val_loss: 0.1450 - val_accuracy: 0.9505\n",
      "Epoch 19/20\n",
      "95/95 [==============================] - 25s 260ms/step - loss: 0.2296 - accuracy: 0.9103 - val_loss: 0.1466 - val_accuracy: 0.9557\n",
      "Epoch 20/20\n",
      "95/95 [==============================] - 25s 260ms/step - loss: 0.2277 - accuracy: 0.9138 - val_loss: 0.1444 - val_accuracy: 0.9478\n",
      "Done\n"
     ]
    }
   ],
   "source": [
    "aug = ImageDataGenerator(\n",
    "    rotation_range=20,\n",
    "    zoom_range=0.15,\n",
    "    width_shift_range=0.2,\n",
    "    height_shift_range=0.2,\n",
    "    shear_range=0.15,\n",
    "    horizontal_flip=True,\n",
    "    fill_mode=\"nearest\")\n",
    "\n",
    "INIT_LR = 1e-4\n",
    "EPOCHS = 20\n",
    "BS = 32\n",
    "\n",
    "H = model.fit(\n",
    "    aug.flow(trainX, trainY, batch_size=BS),\n",
    "    steps_per_epoch=len(trainX) // BS,\n",
    "    validation_data=(testX, testY),\n",
    "    validation_steps=len(testX) // BS,\n",
    "    epochs=EPOCHS)\n",
    "\n",
    "print('Done')"
   ]
  },
  {
   "cell_type": "code",
   "execution_count": 35,
   "id": "warming-basics",
   "metadata": {},
   "outputs": [
    {
     "name": "stdout",
     "output_type": "stream",
     "text": [
      "C:\\Users\\srika\\Desktop\\ML\\PROJECT\\Mask Recognition\n"
     ]
    }
   ],
   "source": [
    "%cd \"C:\\Users\\srika\\Desktop\\ML\\PROJECT\\Mask Recognition\""
   ]
  },
  {
   "cell_type": "code",
   "execution_count": 36,
   "id": "hearing-lewis",
   "metadata": {},
   "outputs": [],
   "source": [
    "model.save('mask_recog_hyperparameter_tuned.h5')"
   ]
  },
  {
   "cell_type": "code",
   "execution_count": null,
   "id": "understanding-anaheim",
   "metadata": {},
   "outputs": [],
   "source": []
  }
 ],
 "metadata": {
  "kernelspec": {
   "display_name": "Python 3",
   "language": "python",
   "name": "python3"
  },
  "language_info": {
   "codemirror_mode": {
    "name": "ipython",
    "version": 3
   },
   "file_extension": ".py",
   "mimetype": "text/x-python",
   "name": "python",
   "nbconvert_exporter": "python",
   "pygments_lexer": "ipython3",
   "version": "3.8.0"
  }
 },
 "nbformat": 4,
 "nbformat_minor": 5
}
